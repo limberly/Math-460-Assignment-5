{
 "cells": [
  {
   "cell_type": "code",
   "execution_count": 1,
   "metadata": {},
   "outputs": [],
   "source": [
    "import imageio\n",
    "from skimage.transform import resize\n",
    "import numpy as np\n",
    "from sklearn.ensemble import RandomForestClassifier\n",
    "import matplotlib.pyplot as plt\n",
    "import seaborn as sns; sns.set()"
   ]
  },
  {
   "cell_type": "code",
   "execution_count": 2,
   "metadata": {},
   "outputs": [
    {
     "data": {
      "text/plain": [
       "'C:\\\\Users\\\\student\\\\Desktop'"
      ]
     },
     "execution_count": 2,
     "metadata": {},
     "output_type": "execute_result"
    }
   ],
   "source": [
    "import os\n",
    "import skimage as ski\n",
    "os.getcwd()"
   ]
  },
  {
   "cell_type": "code",
   "execution_count": 11,
   "metadata": {},
   "outputs": [],
   "source": [
    "import glob\n",
    "\n",
    "im = imageio.imread('C:\\\\Users\\\\student\\\\Desktop\\\\digits_images\\\\00.png')\n",
    "im1 = resize(im, (8, 8))\n",
    "im1 = im1[:,:,0]\n",
    "im1 = im1.reshape(-1).reshape(1, -1)\n",
    "xtrain=im1\n",
    "\n",
    "ytrain = np.array([0])\n",
    "\n",
    "path = glob.glob(\"C:\\\\Users\\\\student\\\\Desktop\\\\digits_images\\\\0\\\\*.png\")\n",
    "for img in path:\n",
    "    n = imageio.imread(img)\n",
    "    im1 = resize(n, (8, 8))\n",
    "    im1 = im1[:,:,0]\n",
    "    im1 = im1.reshape(-1).reshape(1, -1)\n",
    "    xtrain = np.append(xtrain, im1,0)\n",
    "ytrain = np.append(ytrain, np.repeat(0,30))\n",
    "\n",
    "path = glob.glob(\"C:\\\\Users\\\\student\\\\Desktop\\\\digits_images\\\\1\\\\*.png\")\n",
    "for img in path:\n",
    "    n = imageio.imread(img)\n",
    "    im1 = resize(n, (8, 8))\n",
    "    im1 = im1[:,:,0]\n",
    "    im1 = im1.reshape(-1).reshape(1, -1)\n",
    "    xtrain = np.append(xtrain, im1,0)\n",
    "ytrain = np.append(ytrain, np.repeat(1,31))\n",
    "\n",
    "path = glob.glob(\"C:\\\\Users\\\\student\\\\Desktop\\\\digits_images\\\\2\\\\*.png\")\n",
    "for img in path:\n",
    "    n = imageio.imread(img)\n",
    "    im1 = resize(n, (8, 8))\n",
    "    im1 = im1[:,:,0]\n",
    "    im1 = im1.reshape(-1).reshape(1, -1)\n",
    "    xtrain = np.append(xtrain, im1,0)\n",
    "ytrain = np.append(ytrain, np.repeat(2,31))\n",
    "\n",
    "path = glob.glob(\"C:\\\\Users\\\\student\\\\Desktop\\\\digits_images\\\\3\\\\*.png\")\n",
    "for img in path:\n",
    "    n = imageio.imread(img)\n",
    "    im1 = resize(n, (8, 8))\n",
    "    im1 = im1[:,:,0]\n",
    "    im1 = im1.reshape(-1).reshape(1, -1)\n",
    "    xtrain = np.append(xtrain, im1,0)\n",
    "ytrain = np.append(ytrain, np.repeat(3,31))\n",
    "\n",
    "path = glob.glob(\"C:\\\\Users\\\\student\\\\Desktop\\\\digits_images\\\\4\\\\*.png\")\n",
    "for img in path:\n",
    "    n = imageio.imread(img)\n",
    "    im1 = resize(n, (8, 8))\n",
    "    im1 = im1[:,:,0]\n",
    "    im1 = im1.reshape(-1).reshape(1, -1)\n",
    "    xtrain = np.append(xtrain, im1,0)\n",
    "ytrain = np.append(ytrain, np.repeat(4,31))\n",
    "\n",
    "path = glob.glob(\"C:\\\\Users\\\\student\\\\Desktop\\\\digits_images\\\\5\\\\*.png\")\n",
    "for img in path:\n",
    "    n = imageio.imread(img)\n",
    "    im1 = resize(n, (8, 8))\n",
    "    im1 = im1[:,:,0]\n",
    "    im1 = im1.reshape(-1).reshape(1, -1)\n",
    "    xtrain = np.append(xtrain, im1,0)\n",
    "ytrain = np.append(ytrain, np.repeat(5,31))\n",
    "\n",
    "path = glob.glob(\"C:\\\\Users\\\\student\\\\Desktop\\\\digits_images\\\\6\\\\*.png\")\n",
    "for img in path:\n",
    "    n = imageio.imread(img)\n",
    "    im1 = resize(n, (8, 8))\n",
    "    im1 = im1[:,:,0]\n",
    "    im1 = im1.reshape(-1).reshape(1, -1)\n",
    "    xtrain = np.append(xtrain, im1,0)\n",
    "ytrain = np.append(ytrain, np.repeat(6,31))\n",
    "\n",
    "path = glob.glob(\"C:\\\\Users\\\\student\\\\Desktop\\\\digits_images\\\\7\\\\*.png\")\n",
    "for img in path:\n",
    "    n = imageio.imread(img)\n",
    "    im1 = resize(n, (8, 8))\n",
    "    im1 = im1[:,:,0]\n",
    "    im1 = im1.reshape(-1).reshape(1, -1)\n",
    "    xtrain = np.append(xtrain, im1,0)\n",
    "ytrain = np.append(ytrain, np.repeat(7,31))\n",
    "\n",
    "path = glob.glob(\"C:\\\\Users\\\\student\\\\Desktop\\\\digits_images\\\\8\\\\*.png\")\n",
    "for img in path:\n",
    "    n = imageio.imread(img)\n",
    "    im1 = resize(n, (8, 8))\n",
    "    im1 = im1[:,:,0]\n",
    "    im1 = im1.reshape(-1).reshape(1, -1)\n",
    "    xtrain = np.append(xtrain, im1,0)\n",
    "ytrain = np.append(ytrain, np.repeat(8,31))\n",
    "\n",
    "path = glob.glob(\"C:\\\\Users\\\\student\\\\Desktop\\\\digits_images\\\\9\\\\*.png\")\n",
    "for img in path:\n",
    "    n = imageio.imread(img)\n",
    "    im1 = resize(n, (8, 8))\n",
    "    im1 = im1[:,:,0]\n",
    "    im1 = im1.reshape(-1).reshape(1, -1)\n",
    "    xtrain = np.append(xtrain, im1,0)\n",
    "ytrain = np.append(ytrain, np.repeat(9,31))\n"
   ]
  },
  {
   "cell_type": "code",
   "execution_count": 12,
   "metadata": {},
   "outputs": [],
   "source": [
    "im = imageio.imread('C:\\\\Users\\\\student\\\\Desktop\\\\test\\\\digits\\\\test1.png')\n",
    "im1 = resize(im, (8, 8))\n",
    "im1 = im1[:,:,0]\n",
    "im1 = im1.reshape(-1).reshape(1, -1)\n",
    "Xtest = im1\n",
    "\n",
    "\n",
    "im = imageio.imread('C:\\\\Users\\\\student\\\\Desktop\\\\test\\\\digits\\\\test2.png')\n",
    "im1 = resize(im, (8, 8))\n",
    "im1 = im1[:,:,0]\n",
    "im1 = im1.reshape(-1).reshape(1, -1)\n",
    "Xtest = np.append(Xtest, im1,0)\n",
    "\n",
    "\n",
    "im = imageio.imread('C:\\\\Users\\\\student\\\\Desktop\\\\test\\\\digits\\\\test3.png')\n",
    "im1 = resize(im, (8, 8))\n",
    "im1 = im1[:,:,0]\n",
    "im1 = im1.reshape(-1).reshape(1, -1)\n",
    "Xtest = np.append(Xtest, im1,0)\n",
    "\n",
    "im = imageio.imread('C:\\\\Users\\\\student\\\\Desktop\\\\test\\\\digits\\\\test4.png')\n",
    "im1 = resize(im, (8, 8))\n",
    "im1 = im1[:,:,0]\n",
    "im1 = im1.reshape(-1).reshape(1, -1)\n",
    "Xtest = np.append(Xtest, im1,0)\n",
    "\n",
    "im = imageio.imread('C:\\\\Users\\\\student\\\\Desktop\\\\test\\\\digits\\\\test5.png')\n",
    "im1 = resize(im, (8, 8))\n",
    "im1 = im1[:,:,0]\n",
    "im1 = im1.reshape(-1).reshape(1, -1)\n",
    "Xtest = np.append(Xtest, im1,0)\n",
    "\n",
    "im = imageio.imread('C:\\\\Users\\\\student\\\\Desktop\\\\test\\\\digits\\\\test6.png')\n",
    "im1 = resize(im, (8, 8))\n",
    "im1 = im1[:,:,0]\n",
    "im1 = im1.reshape(-1).reshape(1, -1)\n",
    "Xtest = np.append(Xtest, im1,0)\n",
    "\n",
    "im = imageio.imread('C:\\\\Users\\\\student\\\\Desktop\\\\test\\\\digits\\\\test7.png')\n",
    "im1 = resize(im, (8, 8))\n",
    "im1 = im1[:,:,0]\n",
    "im1 = im1.reshape(-1).reshape(1, -1)\n",
    "Xtest = np.append(Xtest, im1,0)\n",
    "\n",
    "im = imageio.imread('C:\\\\Users\\\\student\\\\Desktop\\\\test\\\\digits\\\\test8.png')\n",
    "im1 = resize(im, (8, 8))\n",
    "im1 = im1[:,:,0]\n",
    "im1 = im1.reshape(-1).reshape(1, -1)\n",
    "Xtest = np.append(Xtest, im1,0)\n",
    "\n",
    "im = imageio.imread('C:\\\\Users\\\\student\\\\Desktop\\\\test\\\\digits\\\\test9.png')\n",
    "im1 = resize(im, (8, 8))\n",
    "im1 = im1[:,:,0]\n",
    "im1 = im1.reshape(-1).reshape(1, -1)\n",
    "Xtest = np.append(Xtest, im1,0)\n",
    "\n",
    "\n",
    "\n",
    "im = imageio.imread('C:\\\\Users\\\\student\\\\Desktop\\\\test\\\\digits\\\\test10.png')\n",
    "im1 = resize(im, (8, 8))\n",
    "im1 = im1[:,:,0]\n",
    "im1 = im1.reshape(-1).reshape(1, -1)\n",
    "Xtest = np.append(Xtest, im1,0)\n",
    "\n",
    "im = imageio.imread('C:\\\\Users\\\\student\\\\Desktop\\\\test\\\\digits\\\\test11.png')\n",
    "im1 = resize(im, (8, 8))\n",
    "im1 = im1[:,:,0]\n",
    "im1 = im1.reshape(-1).reshape(1, -1)\n",
    "Xtest = np.append(Xtest, im1,0)\n",
    "\n",
    "\n",
    "\n",
    "im = imageio.imread('C:\\\\Users\\\\student\\\\Desktop\\\\test\\\\digits\\\\test12.png')\n",
    "im1 = resize(im, (8, 8))\n",
    "im1 = im1[:,:,0]\n",
    "im1 = im1.reshape(-1).reshape(1, -1)\n",
    "Xtest = np.append(Xtest, im1,0)\n",
    "\n",
    "\n",
    "im = imageio.imread('C:\\\\Users\\\\student\\\\Desktop\\\\test\\\\digits\\\\test13.png')\n",
    "im1 = resize(im, (8, 8))\n",
    "im1 = im1[:,:,0]\n",
    "im1 = im1.reshape(-1).reshape(1, -1)\n",
    "Xtest = np.append(Xtest, im1,0)\n",
    "\n",
    "im = imageio.imread('C:\\\\Users\\\\student\\\\Desktop\\\\test\\\\digits\\\\test14.png')\n",
    "im1 = resize(im, (8, 8))\n",
    "im1 = im1[:,:,0]\n",
    "im1 = im1.reshape(-1).reshape(1, -1)\n",
    "Xtest = np.append(Xtest, im1,0)\n",
    "\n",
    "im = imageio.imread('C:\\\\Users\\\\student\\\\Desktop\\\\test\\\\digits\\\\test15.png')\n",
    "im1 = resize(im, (8, 8))\n",
    "im1 = im1[:,:,0]\n",
    "im1 = im1.reshape(-1).reshape(1, -1)\n",
    "Xtest = np.append(Xtest, im1,0)\n",
    "\n",
    "im = imageio.imread('C:\\\\Users\\\\student\\\\Desktop\\\\test\\\\digits\\\\test16.png')\n",
    "im1 = resize(im, (8, 8))\n",
    "im1 = im1[:,:,0]\n",
    "im1 = im1.reshape(-1).reshape(1, -1)\n",
    "Xtest = np.append(Xtest, im1,0)\n",
    "\n",
    "im = imageio.imread('C:\\\\Users\\\\student\\\\Desktop\\\\test\\\\digits\\\\test17.png')\n",
    "im1 = resize(im, (8, 8))\n",
    "im1 = im1[:,:,0]\n",
    "im1 = im1.reshape(-1).reshape(1, -1)\n",
    "Xtest = np.append(Xtest, im1,0)\n",
    "\n",
    "im = imageio.imread('C:\\\\Users\\\\student\\\\Desktop\\\\test\\\\digits\\\\test18.png')\n",
    "im1 = resize(im, (8, 8))\n",
    "im1 = im1[:,:,0]\n",
    "im1 = im1.reshape(-1).reshape(1, -1)\n",
    "Xtest = np.append(Xtest, im1,0)\n",
    "\n",
    "im = imageio.imread('C:\\\\Users\\\\student\\\\Desktop\\\\test\\\\digits\\\\test19.png')\n",
    "im1 = resize(im, (8, 8))\n",
    "im1 = im1[:,:,0]\n",
    "im1 = im1.reshape(-1).reshape(1, -1)\n",
    "Xtest = np.append(Xtest, im1,0)\n",
    "\n",
    "\n",
    "im = imageio.imread('C:\\\\Users\\\\student\\\\Desktop\\\\test\\\\digits\\\\test20.png')\n",
    "im1 = resize(im, (8, 8))\n",
    "im1 = im1[:,:,0]\n",
    "im1 = im1.reshape(-1).reshape(1, -1)\n",
    "Xtest = np.append(Xtest, im1,0)\n",
    "\n",
    "im = imageio.imread('C:\\\\Users\\\\student\\\\Desktop\\\\test\\\\digits\\\\test21.png')\n",
    "im1 = resize(im, (8, 8))\n",
    "im1 = im1[:,:,0]\n",
    "im1 = im1.reshape(-1).reshape(1, -1)\n",
    "Xtest = np.append(Xtest, im1,0)\n",
    "\n",
    "im = imageio.imread('C:\\\\Users\\\\student\\\\Desktop\\\\test\\\\digits\\\\test22.png')\n",
    "im1 = resize(im, (8, 8))\n",
    "im1 = im1[:,:,0]\n",
    "im1 = im1.reshape(-1).reshape(1, -1)\n",
    "Xtest = np.append(Xtest, im1,0)\n",
    "\n",
    "im = imageio.imread('C:\\\\Users\\\\student\\\\Desktop\\\\test\\\\digits\\\\test23.png')\n",
    "im1 = resize(im, (8, 8))\n",
    "im1 = im1[:,:,0]\n",
    "im1 = im1.reshape(-1).reshape(1, -1)\n",
    "Xtest = np.append(Xtest, im1,0)\n",
    "\n",
    "im = imageio.imread('C:\\\\Users\\\\student\\\\Desktop\\\\test\\\\digits\\\\test24.png')\n",
    "im1 = resize(im, (8, 8))\n",
    "im1 = im1[:,:,0]\n",
    "im1 = im1.reshape(-1).reshape(1, -1)\n",
    "Xtest = np.append(Xtest, im1,0)\n",
    "\n",
    "im = imageio.imread('C:\\\\Users\\\\student\\\\Desktop\\\\test\\\\digits\\\\test25.png')\n",
    "im1 = resize(im, (8, 8))\n",
    "im1 = im1[:,:,0]\n",
    "im1 = im1.reshape(-1).reshape(1, -1)\n",
    "Xtest = np.append(Xtest, im1,0)\n",
    "\n",
    "im = imageio.imread('C:\\\\Users\\\\student\\\\Desktop\\\\test\\\\digits\\\\test26.png')\n",
    "im1 = resize(im, (8, 8))\n",
    "im1 = im1[:,:,0]\n",
    "im1 = im1.reshape(-1).reshape(1, -1)\n",
    "Xtest = np.append(Xtest, im1,0)\n",
    "\n",
    "im = imageio.imread('C:\\\\Users\\\\student\\\\Desktop\\\\test\\\\digits\\\\test27.png')\n",
    "im1 = resize(im, (8, 8))\n",
    "im1 = im1[:,:,0]\n",
    "im1 = im1.reshape(-1).reshape(1, -1)\n",
    "Xtest = np.append(Xtest, im1,0)\n",
    "\n",
    "im = imageio.imread('C:\\\\Users\\\\student\\\\Desktop\\\\test\\\\digits\\\\test28.png')\n",
    "im1 = resize(im, (8, 8))\n",
    "im1 = im1[:,:,0]\n",
    "im1 = im1.reshape(-1).reshape(1, -1)\n",
    "Xtest = np.append(Xtest, im1,0)\n",
    "\n",
    "im = imageio.imread('C:\\\\Users\\\\student\\\\Desktop\\\\test\\\\digits\\\\test29.png')\n",
    "im1 = resize(im, (8, 8))\n",
    "im1 = im1[:,:,0]\n",
    "im1 = im1.reshape(-1).reshape(1, -1)\n",
    "Xtest = np.append(Xtest, im1,0)\n",
    "\n",
    "\n",
    "\n",
    "ytest=np.array([1,2,3,3,1,2,1,3,1,2,3,3,2,2,3,3,1,2,1,2,2,2,3,1,1,3,2,2,2])"
   ]
  },
  {
   "cell_type": "code",
   "execution_count": 30,
   "metadata": {},
   "outputs": [
    {
     "data": {
      "text/plain": [
       "RandomForestClassifier(bootstrap=True, class_weight=None, criterion='gini',\n",
       "                       max_depth=None, max_features=10, max_leaf_nodes=None,\n",
       "                       min_impurity_decrease=0.0, min_impurity_split=None,\n",
       "                       min_samples_leaf=1, min_samples_split=2,\n",
       "                       min_weight_fraction_leaf=0.0, n_estimators=25,\n",
       "                       n_jobs=None, oob_score=False, random_state=None,\n",
       "                       verbose=0, warm_start=False)"
      ]
     },
     "execution_count": 30,
     "metadata": {},
     "output_type": "execute_result"
    }
   ],
   "source": [
    "model = RandomForestClassifier(n_estimators=25, max_features =10)\n",
    "model.fit(xtrain, ytrain)"
   ]
  },
  {
   "cell_type": "code",
   "execution_count": 31,
   "metadata": {},
   "outputs": [
    {
     "data": {
      "image/png": "[encoded data removed]",
      "text/plain": [
       "<Figure size 432x288 with 1 Axes>"
      ]
     },
     "metadata": {
      "needs_background": "light"
     },
     "output_type": "display_data"
    },
    {
     "data": {
      "image/png": "[encoded data removed]",
      "text/plain": [
       "<Figure size 432x288 with 1 Axes>"
      ]
     },
     "metadata": {
      "needs_background": "light"
     },
     "output_type": "display_data"
    }
   ],
   "source": [
    "ypred_train=model.predict(xtrain)\n",
    "ypred_test=model.predict(Xtest)\n",
    "from sklearn.metrics import confusion_matrix\n",
    "mat = confusion_matrix(ypred_train, ytrain)\n",
    "sns.heatmap(mat.T, square=True, annot=True, fmt='d', cbar=False)\n",
    "plt.xlabel('true label')\n",
    "plt.ylabel('predicted label');\n",
    "plt.show()\n",
    "\n",
    "mat = confusion_matrix(ypred_test, ytest)\n",
    "sns.heatmap(mat.T, square=True, annot=True, fmt='d', cbar=False)\n",
    "plt.xlabel('true label')\n",
    "plt.ylabel('predicted label');\n",
    "plt.show()"
   ]
  },
  {
   "cell_type": "code",
   "execution_count": 37,
   "metadata": {},
   "outputs": [
    {
     "name": "stdout",
     "output_type": "stream",
     "text": [
      "Input Image\n"
     ]
    },
    {
     "data": {
      "image/png": "[encoded data removed]",
      "text/plain": [
       "<Figure size 432x288 with 1 Axes>"
      ]
     },
     "metadata": {
      "needs_background": "light"
     },
     "output_type": "display_data"
    },
    {
     "name": "stdout",
     "output_type": "stream",
     "text": [
      "\n",
      "================================\n",
      "The model predicts: [5]\n"
     ]
    }
   ],
   "source": [
    "im = imageio.imread('C:\\\\Users\\\\student\\\\Desktop\\\\test\\\\digits\\\\test5.png')\n",
    "#im = imageio.imread('C:\\\\Users\\\\student\\\\Desktop\\\\digits_images\\\\7\\\\75.png')\n",
    "print('Input Image')\n",
    "plt.imshow(im)\n",
    "plt.show()\n",
    "from skimage.transform import resize\n",
    "im1 = resize(im, (8, 8))\n",
    "im1 = im1[:,:,0]\n",
    "im1 = im1.reshape(-1).reshape(1, -1)\n",
    "\n",
    "print('')\n",
    "print('================================')\n",
    "print(\"The model predicts:\", model.predict(im1))"
   ]
  },
  {
   "cell_type": "code",
   "execution_count": 39,
   "metadata": {},
   "outputs": [],
   "source": [
    "x=np.append(xtrain, Xtest,0)\n",
    "y=np.append(ytrain, ytest)"
   ]
  },
  {
   "cell_type": "markdown",
   "metadata": {},
   "source": [
    "# Tuning"
   ]
  },
  {
   "cell_type": "code",
   "execution_count": 40,
   "metadata": {},
   "outputs": [
    {
     "name": "stderr",
     "output_type": "stream",
     "text": [
      "C:\\Users\\student\\Anaconda3\\lib\\site-packages\\sklearn\\model_selection\\_search.py:813: DeprecationWarning: The default of the `iid` parameter will change from True to False in version 0.22 and will be removed in 0.24. This will change numeric results when test-set sizes are unequal.\n",
      "  DeprecationWarning)\n"
     ]
    },
    {
     "data": {
      "text/plain": [
       "GridSearchCV(cv=5, error_score='raise-deprecating',\n",
       "             estimator=RandomForestClassifier(bootstrap=True, class_weight=None,\n",
       "                                              criterion='gini', max_depth=None,\n",
       "                                              max_features='auto',\n",
       "                                              max_leaf_nodes=None,\n",
       "                                              min_impurity_decrease=0.0,\n",
       "                                              min_impurity_split=None,\n",
       "                                              min_samples_leaf=1,\n",
       "                                              min_samples_split=2,\n",
       "                                              min_weight_fraction_leaf=0.0,\n",
       "                                              n_estimators='warn', n_jobs=None,\n",
       "                                              oob_score=False,\n",
       "                                              random_state=None, verbose=0,\n",
       "                                              warm_start=False),\n",
       "             iid='warn', n_jobs=None,\n",
       "             param_grid={'max_features': range(1, 64),\n",
       "                         'n_estimators': range(3, 100)},\n",
       "             pre_dispatch='2*n_jobs', refit=True, return_train_score=False,\n",
       "             scoring=None, verbose=0)"
      ]
     },
     "execution_count": 40,
     "metadata": {},
     "output_type": "execute_result"
    }
   ],
   "source": [
    "\n",
    "param_grid = {'n_estimators': range(3,100), 'max_features':range(1,64)}\n",
    "\n",
    "from sklearn.model_selection import GridSearchCV\n",
    "rf3 = GridSearchCV(RandomForestClassifier(), param_grid, cv = 5)\n",
    "rf3.fit(x,y)"
   ]
  },
  {
   "cell_type": "code",
   "execution_count": 41,
   "metadata": {},
   "outputs": [
    {
     "data": {
      "text/plain": [
       "{'max_features': 15, 'n_estimators': 84}"
      ]
     },
     "execution_count": 41,
     "metadata": {},
     "output_type": "execute_result"
    }
   ],
   "source": [
    "rf3.best_params_"
   ]
  },
  {
   "cell_type": "code",
   "execution_count": 42,
   "metadata": {},
   "outputs": [
    {
     "data": {
      "image/png": "[encoded data removed]",
      "text/plain": [
       "<Figure size 432x288 with 1 Axes>"
      ]
     },
     "metadata": {
      "needs_background": "light"
     },
     "output_type": "display_data"
    }
   ],
   "source": [
    "rf3.score(x,y)\n",
    "ypred2=rf3.predict(x)\n",
    "from sklearn.metrics import confusion_matrix\n",
    "mat = confusion_matrix(y, ypred2)\n",
    "sns.heatmap(mat.T, square=True, annot=True, fmt='d', cbar=False)\n",
    "plt.xlabel('true label')\n",
    "plt.ylabel('predicted label');\n",
    "plt.show()"
   ]
  },
  {
   "cell_type": "code",
   "execution_count": 67,
   "metadata": {},
   "outputs": [
    {
     "name": "stdout",
     "output_type": "stream",
     "text": [
      "Input Image\n"
     ]
    },
    {
     "data": {
      "image/png": "[encoded data removed]",
      "text/plain": [
       "<Figure size 432x288 with 1 Axes>"
      ]
     },
     "metadata": {
      "needs_background": "light"
     },
     "output_type": "display_data"
    },
    {
     "name": "stdout",
     "output_type": "stream",
     "text": [
      "\n",
      "================================\n",
      "The mode predicts: [1]\n"
     ]
    }
   ],
   "source": [
    "im = imageio.imread('C:\\\\Users\\\\student\\\\Desktop\\\\test\\\\digits\\\\test1.png')\n",
    "print('Input Image')\n",
    "plt.imshow(im)\n",
    "plt.show()\n",
    "from skimage.transform import resize\n",
    "im1 = resize(im, (8, 8))\n",
    "im1 = im1[:,:,0]\n",
    "im1 = im1.reshape(-1).reshape(1, -1)\n",
    "\n",
    "print('')\n",
    "print('================================')\n",
    "print(\"The mode predicts:\", rf3.predict(im1))"
   ]
  },
  {
   "cell_type": "code",
   "execution_count": 65,
   "metadata": {},
   "outputs": [
    {
     "name": "stderr",
     "output_type": "stream",
     "text": [
      "C:\\Users\\student\\Anaconda3\\lib\\site-packages\\sklearn\\externals\\joblib\\__init__.py:15: DeprecationWarning: sklearn.externals.joblib is deprecated in 0.21 and will be removed in 0.23. Please import this functionality directly from joblib, which can be installed with: pip install joblib. If this warning is raised when loading pickled models, you may need to re-serialize those models with scikit-learn 0.21+.\n",
      "  warnings.warn(msg, category=DeprecationWarning)\n"
     ]
    }
   ],
   "source": [
    "from sklearn.externals import joblib"
   ]
  },
  {
   "cell_type": "code",
   "execution_count": 68,
   "metadata": {},
   "outputs": [
    {
     "data": {
      "text/plain": [
       "['assignment5.sav']"
      ]
     },
     "execution_count": 68,
     "metadata": {},
     "output_type": "execute_result"
    }
   ],
   "source": [
    "filename = 'assignment5.sav'\n",
    "joblib.dump(rf3, filename)"
   ]
  }
 ],
 "metadata": {
  "kernelspec": {
   "display_name": "Python 3",
   "language": "python",
   "name": "python3"
  },
  "language_info": {
   "codemirror_mode": {
    "name": "ipython",
    "version": 3
   },
   "file_extension": ".py",
   "mimetype": "text/x-python",
   "name": "python",
   "nbconvert_exporter": "python",
   "pygments_lexer": "ipython3",
   "version": "3.7.3"
  }
 },
 "nbformat": 4,
 "nbformat_minor": 4
}
